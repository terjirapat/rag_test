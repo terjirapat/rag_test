{
 "cells": [
  {
   "cell_type": "code",
   "execution_count": 1,
   "id": "1f8fd9bf",
   "metadata": {},
   "outputs": [],
   "source": [
    "import yaml\n",
    "\n",
    "# load config\n",
    "with open(\"config.yaml\", \"r\") as file:\n",
    "    config = yaml.safe_load(file)"
   ]
  },
  {
   "cell_type": "markdown",
   "id": "7a3ef06c",
   "metadata": {},
   "source": [
    "## extracting"
   ]
  },
  {
   "cell_type": "code",
   "execution_count": 2,
   "id": "1ae5b948",
   "metadata": {},
   "outputs": [],
   "source": [
    "import fitz  # PyMuPDF\n",
    "\n",
    "def extract_text_from_pdf(pdf_path):\n",
    "    doc = fitz.open(pdf_path)\n",
    "    all_text = []\n",
    "    \n",
    "    for page_num in range(len(doc)):\n",
    "        page = doc.load_page(page_num)\n",
    "        text = page.get_text(\"text\")\n",
    "        text = text.strip()\n",
    "        if text:\n",
    "            all_text.append(text)\n",
    "    \n",
    "    full_text = \"\\n\\n\".join(all_text)\n",
    "    return full_text"
   ]
  },
  {
   "cell_type": "code",
   "execution_count": 3,
   "id": "8bec0c82",
   "metadata": {},
   "outputs": [],
   "source": [
    "path = \"doc/Ethan Rasiel, Ph.D., Paul N. Friga - The McKinsey Mind.pdf\"\n",
    "raw_text = extract_text_from_pdf(pdf_path=path)"
   ]
  },
  {
   "cell_type": "markdown",
   "id": "02c71f0a",
   "metadata": {},
   "source": [
    "## chunking"
   ]
  },
  {
   "cell_type": "code",
   "execution_count": 4,
   "id": "d88dc33a",
   "metadata": {},
   "outputs": [
    {
     "name": "stderr",
     "output_type": "stream",
     "text": [
      "Created a chunk of size 125, which is longer than the specified 100\n",
      "Created a chunk of size 127, which is longer than the specified 100\n",
      "Created a chunk of size 122, which is longer than the specified 100\n",
      "Created a chunk of size 127, which is longer than the specified 100\n",
      "Created a chunk of size 119, which is longer than the specified 100\n",
      "Created a chunk of size 118, which is longer than the specified 100\n",
      "Created a chunk of size 124, which is longer than the specified 100\n",
      "Created a chunk of size 121, which is longer than the specified 100\n",
      "Created a chunk of size 122, which is longer than the specified 100\n",
      "Created a chunk of size 125, which is longer than the specified 100\n",
      "Created a chunk of size 127, which is longer than the specified 100\n",
      "Created a chunk of size 129, which is longer than the specified 100\n",
      "Created a chunk of size 125, which is longer than the specified 100\n",
      "Created a chunk of size 122, which is longer than the specified 100\n",
      "Created a chunk of size 132, which is longer than the specified 100\n",
      "Created a chunk of size 126, which is longer than the specified 100\n",
      "Created a chunk of size 124, which is longer than the specified 100\n",
      "Created a chunk of size 129, which is longer than the specified 100\n",
      "Created a chunk of size 130, which is longer than the specified 100\n",
      "Created a chunk of size 131, which is longer than the specified 100\n"
     ]
    }
   ],
   "source": [
    "from langchain.text_splitter import CharacterTextSplitter\n",
    "\n",
    "# 2️⃣ Chunk your text\n",
    "text_splitter = CharacterTextSplitter(\n",
    "    separator=\"\\n\",\n",
    "    chunk_size=100,\n",
    "    chunk_overlap=20\n",
    ")\n",
    "chunks = text_splitter.split_text(raw_text)"
   ]
  },
  {
   "cell_type": "code",
   "execution_count": 6,
   "id": "d7de0ab4",
   "metadata": {},
   "outputs": [
    {
     "data": {
      "text/plain": [
       "['TEAMFLY\\nTeam-Fly®\\nT H E\\nMIND\\nMCKINSEY\\nThis page intentionally left blank.',\n",
       " 'New York   Chicago   San Francisco   Lisbon   London   Madrid   Mexico City',\n",
       " 'Milan   New Delhi   San Juan   Seoul   Singapore   Sydney   Toronto\\nT H E',\n",
       " 'T H E\\nE T H A N  M .  R A S I E L\\nAU T H O R  O F  T H E  M C K I N S E Y  WAY\\nA N D PAUL N. FRIGA',\n",
       " 'A N D PAUL N. FRIGA\\nUnderstanding and Implementing the Problem-']"
      ]
     },
     "execution_count": 6,
     "metadata": {},
     "output_type": "execute_result"
    }
   ],
   "source": [
    "chunks[:5]"
   ]
  },
  {
   "cell_type": "markdown",
   "id": "1db40a69",
   "metadata": {},
   "source": [
    "## embedding"
   ]
  },
  {
   "cell_type": "code",
   "execution_count": 7,
   "id": "dcb92250",
   "metadata": {},
   "outputs": [
    {
     "name": "stderr",
     "output_type": "stream",
     "text": [
      "c:\\Users\\TDGE0049\\AppData\\Local\\Programs\\Python\\Python312\\Lib\\site-packages\\tqdm\\auto.py:21: TqdmWarning: IProgress not found. Please update jupyter and ipywidgets. See https://ipywidgets.readthedocs.io/en/stable/user_install.html\n",
      "  from .autonotebook import tqdm as notebook_tqdm\n"
     ]
    },
    {
     "name": "stdout",
     "output_type": "stream",
     "text": [
      "Vector length: 384\n"
     ]
    }
   ],
   "source": [
    "from sentence_transformers import SentenceTransformer\n",
    "\n",
    "embedding_model = SentenceTransformer('all-MiniLM-L6-v2')\n",
    "# Embed text\n",
    "embeddings = embedding_model.encode(chunks)\n",
    "print(f\"Vector length: {len(embeddings[0])}\")"
   ]
  },
  {
   "cell_type": "markdown",
   "id": "219074e1",
   "metadata": {},
   "source": [
    "## store in db"
   ]
  },
  {
   "cell_type": "markdown",
   "id": "33526c1a",
   "metadata": {},
   "source": [
    "### chroma cloud"
   ]
  },
  {
   "cell_type": "code",
   "execution_count": 48,
   "id": "086d0675",
   "metadata": {},
   "outputs": [],
   "source": [
    "import chromadb\n",
    "  \n",
    "chroma_client = chromadb.CloudClient(\n",
    "  api_key=config['chroma_api'],\n",
    "  tenant=config['chroma_tenant'],\n",
    "  database='first_rag'\n",
    ")"
   ]
  },
  {
   "cell_type": "code",
   "execution_count": 66,
   "id": "14ecd952",
   "metadata": {},
   "outputs": [],
   "source": [
    "# 3️⃣ Create or get collection\n",
    "collection = chroma_client.get_or_create_collection(name=\"my_collection\")"
   ]
  },
  {
   "cell_type": "code",
   "execution_count": 61,
   "id": "290a8e48",
   "metadata": {},
   "outputs": [],
   "source": [
    "# # Cloud collections work the same way!\n",
    "# collection.add(\n",
    "#     ids=[f\"doc_{i}\" for i in range(len(chunks))],  # unique IDs\n",
    "#     embeddings=embeddings.tolist(),               # must be list of lists!\n",
    "#     documents=chunks,                              # optional, but useful\n",
    "#     metadatas=[{\"source\": \"example\"} for _ in chunks]  # optional metadata\n",
    "# )\n",
    "\n",
    "# print(\"✅ Vectors stored in Chroma Cloud!\")"
   ]
  },
  {
   "cell_type": "code",
   "execution_count": 76,
   "id": "7441bc59",
   "metadata": {},
   "outputs": [],
   "source": [
    "# Just store the first 200 chunks instead of all\n",
    "n = 300\n",
    "collection.add(\n",
    "    ids=[f\"doc_{i}\" for i in range(n)],\n",
    "    embeddings=embeddings[:n].tolist(),\n",
    "    documents=chunks[:n],\n",
    "    metadatas=[{\"source\": \"example\"} for _ in range(n)]\n",
    ")"
   ]
  },
  {
   "cell_type": "markdown",
   "id": "1ccf4758",
   "metadata": {},
   "source": [
    "### chroma local"
   ]
  },
  {
   "cell_type": "code",
   "execution_count": 8,
   "id": "2a48598c",
   "metadata": {},
   "outputs": [],
   "source": [
    "import chromadb\n",
    "\n",
    "# Local vector DB (PersistentClient = new style!)\n",
    "chroma_client = chromadb.PersistentClient(path=\"./vector_database\")\n",
    "\n",
    "collection = chroma_client.get_or_create_collection(name=\"my_local_collection\")"
   ]
  },
  {
   "cell_type": "code",
   "execution_count": 9,
   "id": "2b36196f",
   "metadata": {},
   "outputs": [],
   "source": [
    "# Cloud collections work the same way!\n",
    "collection.add(\n",
    "    ids=[f\"doc_{i}\" for i in range(len(chunks))],  # unique IDs\n",
    "    embeddings=embeddings.tolist(),               # must be list of lists!\n",
    "    documents=chunks,                              # optional, but useful\n",
    "    metadatas=[{\"source\": \"example\"} for _ in chunks]  # optional metadata\n",
    ")"
   ]
  },
  {
   "cell_type": "markdown",
   "id": "63c3886c",
   "metadata": {},
   "source": [
    "## retrieve"
   ]
  },
  {
   "cell_type": "code",
   "execution_count": 42,
   "id": "c44b5dfb",
   "metadata": {},
   "outputs": [],
   "source": [
    "query = \"How to think like McKinsey?\"\n",
    "\n",
    "# Embed locally\n",
    "query_embedding = embedding_model.encode([query])\n",
    "\n",
    "# Search Chroma Cloud\n",
    "results = collection.query(\n",
    "    query_embeddings=query_embedding.tolist(),\n",
    "    n_results=300\n",
    ")\n",
    "\n",
    "# Extract relevant chunks\n",
    "contexts = results['documents'][0]\n",
    "context_text = \"\\n\".join(contexts)"
   ]
  },
  {
   "cell_type": "code",
   "execution_count": 43,
   "id": "4fccf025",
   "metadata": {},
   "outputs": [
    {
     "data": {
      "text/plain": [
       "['really felt at McKinsey like you had an advocate.',\n",
       " 'the “McKinsey Mind” not to confine itself to brilliant prob-',\n",
       " 'The McKinsey Mind\\nObviously, even more than the lessons on advancing one’s career,',\n",
       " 'model of the McKinsey Mind—analyzing, presenting, and man-',\n",
       " 'If there is a stereotype of McKinsey in the minds of business-',\n",
       " 'The McKinsey Mind\\nhave an elevator ride to get your point across to them. What',\n",
       " 'The McKinsey Mind. Those of you who want to follow up on your',\n",
       " 'McKinsey has developed a strong, fact-based culture that man-',\n",
       " 'Is there a question about McKinsey we’ve forgotten to ask? What’s your\\nanswer?',\n",
       " 'in my post-McKinsey career involves the search for the very']"
      ]
     },
     "execution_count": 43,
     "metadata": {},
     "output_type": "execute_result"
    }
   ],
   "source": [
    "contexts[:10]"
   ]
  },
  {
   "cell_type": "code",
   "execution_count": 36,
   "id": "780f34c9",
   "metadata": {},
   "outputs": [],
   "source": [
    "import google.generativeai as genai\n",
    "\n",
    "# Configure the SDK\n",
    "genai.configure(api_key=config['genimi_api'])\n",
    "\n",
    "# Create the Gemini 2.5 Flash model\n",
    "gemini_model = genai.GenerativeModel(\"gemini-2.5-flash\")"
   ]
  },
  {
   "cell_type": "code",
   "execution_count": 40,
   "id": "f54a3bd1",
   "metadata": {},
   "outputs": [
    {
     "name": "stdout",
     "output_type": "stream",
     "text": [
      "Thinking like McKinsey (or any top-tier management consulting firm) isn't about memorizing a checklist; it's about internalizing a *mindset* and a *structured problem-solving approach*. It's a way of looking at complex business challenges and breaking them down into manageable, actionable pieces.\n",
      "\n",
      "Here's a breakdown of how to cultivate this thinking:\n",
      "\n",
      "---\n",
      "\n",
      "**I. The Core Mindset Principles**\n",
      "\n",
      "1.  **Problem-First & Client-Centric:**\n",
      "    *   **Always start with the core problem:** Don't jump to solutions. What is the *real* question the client needs to answer? Often, clients present symptoms, not root causes. Use the \"5 Whys\" technique to dig deeper.\n",
      "    *   **Focus on the client's needs:** What is their ultimate goal? How will this solution create tangible value for *them*? Understand their context, constraints, and capabilities.\n",
      "\n",
      "2.  **Hypothesis-Driven:**\n",
      "    *   **Formulate an educated guess early:** Before deep diving into data, develop a preliminary hypothesis about the problem and potential solutions. This provides a clear direction for your analysis.\n",
      "    *   **Use data to prove or disprove:** Your analysis isn't about aimless exploration; it's about validating or refuting your hypothesis. This makes your work highly efficient.\n",
      "    *   *Example:* Instead of \"Let's gather all data on market trends,\" think \"Our hypothesis is that market share is declining due to increased competition from XYZ Inc. in the low-end segment. We need data on XYZ's pricing, product features, and our customer retention rates in that segment.\"\n",
      "\n",
      "3.  **Fact-Based & Data-Driven:**\n",
      "    *   **Rigorous reliance on data:** Assumptions are dangerous. Every claim, every recommendation, must be backed by evidence (quantitative or qualitative).\n",
      "    *   **Quantify where possible:** Use numbers, statistics, and financial models to support your arguments. \"Sales are up\" is less impactful than \"Sales are up 15% year-over-year, leading to an additional $2M in revenue.\"\n",
      "    *   **Beware of biases:** Be aware of confirmation bias or availability bias. Seek out disconfirming evidence as much as confirming evidence.\n",
      "\n",
      "4.  **Impact-Oriented:**\n",
      "    *   **Focus on the \"So What?\":** Every insight, every recommendation must lead to a tangible impact. If it doesn't move the needle for the client, it's not valuable.\n",
      "    *   **Prioritize for impact:** Not all problems are equally important. Identify the 20% of issues that will deliver 80% of the impact.\n",
      "\n",
      "5.  **Structured & Logical:**\n",
      "    *   **Everything has a place:** Your thinking, analysis, and communication should follow a clear, logical flow.\n",
      "    *   **No leaps of faith:** Every conclusion must be directly supported by the preceding facts and analysis.\n",
      "\n",
      "---\n",
      "\n",
      "**II. The Problem-Solving Methodology (The Process)**\n",
      "\n",
      "This is often visualized through the \"Issue Tree\" or \"Logic Tree\" approach.\n",
      "\n",
      "1.  **Define the Problem Precisely:**\n",
      "    *   What is the specific question we are trying to answer? (e.g., \"How can Company X increase profitability by 20% in the next 18 months?\")\n",
      "    *   Establish the scope, objectives, and success metrics.\n",
      "\n",
      "2.  **Break Down the Problem (MECE Principle):**\n",
      "    *   **MECE = Mutually Exclusive, Collectively Exhaustive.** This is perhaps the most famous McKinsey principle.\n",
      "    *   **Mutually Exclusive:** Each sub-component of your problem should be distinct and not overlap with others. (No double-counting or confusion).\n",
      "    *   **Collectively Exhaustive:** All sub-components, when combined, should cover the entirety of the main problem. (Nothing important is left out).\n",
      "    *   *Example:* If the problem is \"Increase Profitability,\" a MECE breakdown could be:\n",
      "        *   Increase Revenue (MECE breakdown: Price, Volume)\n",
      "        *   Decrease Costs (MECE breakdown: Fixed Costs, Variable Costs)\n",
      "    *   This creates an \"issue tree\" that branches out, allowing you to systematically analyze each part.\n",
      "\n",
      "3.  **Formulate Initial Hypotheses (for each branch):**\n",
      "    *   For each major branch of your MECE issue tree, develop a specific hypothesis that addresses that part of the problem.\n",
      "    *   *Example:* For \"Increase Volume,\" a hypothesis might be: \"We believe increasing sales in Segment A by 10% through a targeted marketing campaign will drive the necessary volume increase.\"\n",
      "\n",
      "4.  **Design Analysis & Gather Data:**\n",
      "    *   For each hypothesis, determine what specific data is needed to prove or disprove it.\n",
      "    *   Identify the best sources of data (internal reports, market research, competitor analysis, customer interviews, expert opinions).\n",
      "    *   Outline the analytical methods (financial modeling, statistical analysis, benchmarking, surveys).\n",
      "\n",
      "5.  **Synthesize Findings & Develop Recommendations:**\n",
      "    *   Analyze the collected data against your hypotheses. What did you find? Did your hypotheses hold true?\n",
      "    *   Synthesize the disparate findings into coherent insights. What's the story the data tells?\n",
      "    *   Formulate clear, actionable recommendations based on your insights. These should directly address the initial problem.\n",
      "    *   Crucially, these recommendations must be implementable and consider the client's capabilities and constraints.\n",
      "\n",
      "6.  **Iterate & Refine:**\n",
      "    *   Problem-solving is rarely linear. As you gather data, you might uncover new information that changes your understanding, leading you to refine your problem definition, adjust your issue tree, or modify your hypotheses. Be flexible and willing to adapt.\n",
      "\n",
      "---\n",
      "\n",
      "**III. The Communication Style (Pyramid Principle)**\n",
      "\n",
      "1.  **Start with the Answer (Top-Down):** Don't build up to your conclusion like a mystery novel. State your main recommendation or insight upfront.\n",
      "    *   *Example:* \"We recommend divesting Unit A because it is consistently underperforming, drains resources, and hinders focus on core profitable segments.\"\n",
      "2.  **Support with Key Arguments:** Follow your main answer with 2-3 logical arguments that directly support it.\n",
      "3.  **Back with Data & Details:** Each key argument is then supported by specific facts, data, and detailed analysis.\n",
      "4.  **Structured and Concise:** Use clear language, avoid jargon, and ensure every word adds value. Bullet points and simple visuals are highly favored.\n",
      "\n",
      "---\n",
      "\n",
      "**How to Practice Thinking Like McKinsey:**\n",
      "\n",
      "*   **Apply MECE:** Practice breaking down everyday problems (e.g., \"How to plan a vacation,\" \"How to improve my career,\" \"How to increase my personal savings\") using the MECE principle.\n",
      "*   **Case Interviews:** Practice consulting case interviews. This is the most direct way to simulate the thinking process.\n",
      "*   **Read Business News Critically:** When reading about a company's challenges or successes, try to identify the core problem, what data points would be relevant, and what potential solutions could be implemented.\n",
      "*   **Ask \"So What?\":** For every piece of information or analysis you generate, ask yourself: \"So what does this mean for the problem?\" and \"What's the actionable implication?\"\n",
      "*   **Use Frameworks:** Learn and apply common business frameworks (Porter's Five Forces, 4Ps, SWOT, Value Chain Analysis, BCG Matrix, etc.) to structure your thinking.\n",
      "*   **Develop a Hypothesis First:** Before you research a topic or try to solve a problem, spend 5 minutes formulating an initial hypothesis. Then, consciously try to prove or disprove it.\n",
      "*   **Practice Top-Down Communication:** When explaining something complex, start with your main point, then provide the supporting details.\n",
      "\n",
      "By consistently applying these principles, you'll develop a highly structured, data-driven, and impact-focused approach to problem-solving that is characteristic of McKinsey and other top consulting firms.\n"
     ]
    }
   ],
   "source": [
    "response = gemini_model.generate_content(query)\n",
    "\n",
    "print(response.text)"
   ]
  },
  {
   "cell_type": "code",
   "execution_count": 45,
   "id": "a5de637b",
   "metadata": {},
   "outputs": [
    {
     "name": "stdout",
     "output_type": "stream",
     "text": [
      "To think like McKinsey, one should adopt a problem-solving and decision-making process that is fact-based and hypothesis-driven. This involves:\n",
      "\n",
      "*   **Framing Problems:** Breaking down complex business problems to make them susceptible to rigorous fact-based analysis.\n",
      "*   **Structured Thinking:** Utilizing a framework-driven approach to organize thoughts and simplify complex problems into clear representations (e.g., using two-by-two matrices or other simple structures).\n",
      "*   **Fact-based Analysis:** Relying heavily on facts (\"Facts are friendly\") for problem-solving.\n",
      "*   **Data Gathering and Analysis:** Employing techniques to gather, manage, and analyze data to test hypotheses and extract useful conclusions, generating insights.\n",
      "*   **Communication and Presentation:** Presenting ideas with a flowing, logical structure to convey the full impact and ensure they are accepted, aiming to \"make change happen.\"\n",
      "*   **Balancing Intuition and Data:** While historically less emphasis on intuition, the process may involve balancing intuition with data, especially when time is limited.\n",
      "\n",
      "This rigorous, structured manner of thinking is described as a skill that is learned and intensely trained.\n"
     ]
    }
   ],
   "source": [
    "# Call your local Llama\n",
    "prompt = f\"\"\"Answer the question below using ONLY the context below.\n",
    "\n",
    "Context:\n",
    "{context_text}\n",
    "\n",
    "Question:\n",
    "{query}\n",
    "\n",
    "Answer:\"\"\"\n",
    "\n",
    "response = gemini_model.generate_content(prompt)\n",
    "\n",
    "print(response.text)"
   ]
  }
 ],
 "metadata": {
  "kernelspec": {
   "display_name": "Python 3",
   "language": "python",
   "name": "python3"
  },
  "language_info": {
   "codemirror_mode": {
    "name": "ipython",
    "version": 3
   },
   "file_extension": ".py",
   "mimetype": "text/x-python",
   "name": "python",
   "nbconvert_exporter": "python",
   "pygments_lexer": "ipython3",
   "version": "3.12.1"
  }
 },
 "nbformat": 4,
 "nbformat_minor": 5
}
