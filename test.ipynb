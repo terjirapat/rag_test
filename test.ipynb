{
 "cells": [
  {
   "cell_type": "code",
   "execution_count": 81,
   "id": "1f8fd9bf",
   "metadata": {},
   "outputs": [],
   "source": [
    "import yaml\n",
    "\n",
    "# load config\n",
    "with open(\"config.yaml\", \"r\") as file:\n",
    "    config = yaml.safe_load(file)"
   ]
  },
  {
   "cell_type": "markdown",
   "id": "7a3ef06c",
   "metadata": {},
   "source": [
    "## extracting"
   ]
  },
  {
   "cell_type": "code",
   "execution_count": 1,
   "id": "1ae5b948",
   "metadata": {},
   "outputs": [],
   "source": [
    "import fitz  # PyMuPDF\n",
    "\n",
    "def extract_text_from_pdf(pdf_path):\n",
    "    doc = fitz.open(pdf_path)\n",
    "    all_text = []\n",
    "    \n",
    "    for page_num in range(len(doc)):\n",
    "        page = doc.load_page(page_num)\n",
    "        text = page.get_text(\"text\")\n",
    "        text = text.strip()\n",
    "        if text:\n",
    "            all_text.append(text)\n",
    "    \n",
    "    full_text = \"\\n\\n\".join(all_text)\n",
    "    return full_text"
   ]
  },
  {
   "cell_type": "code",
   "execution_count": 58,
   "id": "8bec0c82",
   "metadata": {},
   "outputs": [],
   "source": [
    "path = \"doc/Ethan Rasiel, Ph.D., Paul N. Friga - The McKinsey Mind.pdf\"\n",
    "raw_text = extract_text_from_pdf(pdf_path=path)"
   ]
  },
  {
   "cell_type": "markdown",
   "id": "02c71f0a",
   "metadata": {},
   "source": [
    "## chunking"
   ]
  },
  {
   "cell_type": "code",
   "execution_count": 59,
   "id": "d88dc33a",
   "metadata": {},
   "outputs": [],
   "source": [
    "from langchain.text_splitter import CharacterTextSplitter\n",
    "\n",
    "# 2️⃣ Chunk your text\n",
    "text_splitter = CharacterTextSplitter(\n",
    "    separator=\"\\n\",\n",
    "    chunk_size=500,\n",
    "    chunk_overlap=50\n",
    ")\n",
    "chunks = text_splitter.split_text(raw_text)"
   ]
  },
  {
   "cell_type": "markdown",
   "id": "1db40a69",
   "metadata": {},
   "source": [
    "## embedding"
   ]
  },
  {
   "cell_type": "code",
   "execution_count": 65,
   "id": "dcb92250",
   "metadata": {},
   "outputs": [
    {
     "name": "stdout",
     "output_type": "stream",
     "text": [
      "Vector length: 384\n"
     ]
    }
   ],
   "source": [
    "from sentence_transformers import SentenceTransformer\n",
    "\n",
    "embedding_model = SentenceTransformer('all-MiniLM-L6-v2')\n",
    "# Embed text\n",
    "embeddings = embedding_model.encode(chunks)\n",
    "print(f\"Vector length: {len(embeddings[0])}\")"
   ]
  },
  {
   "cell_type": "markdown",
   "id": "219074e1",
   "metadata": {},
   "source": [
    "## store in db"
   ]
  },
  {
   "cell_type": "markdown",
   "id": "33526c1a",
   "metadata": {},
   "source": [
    "### chroma cloud"
   ]
  },
  {
   "cell_type": "code",
   "execution_count": 48,
   "id": "086d0675",
   "metadata": {},
   "outputs": [],
   "source": [
    "import chromadb\n",
    "  \n",
    "chroma_client = chromadb.CloudClient(\n",
    "  api_key=config['chroma_api'],\n",
    "  tenant=config['chroma_tenant'],\n",
    "  database='first_rag'\n",
    ")"
   ]
  },
  {
   "cell_type": "code",
   "execution_count": 66,
   "id": "14ecd952",
   "metadata": {},
   "outputs": [],
   "source": [
    "# 3️⃣ Create or get collection\n",
    "collection = chroma_client.get_or_create_collection(name=\"my_collection\")"
   ]
  },
  {
   "cell_type": "code",
   "execution_count": 61,
   "id": "290a8e48",
   "metadata": {},
   "outputs": [],
   "source": [
    "# # Cloud collections work the same way!\n",
    "# collection.add(\n",
    "#     ids=[f\"doc_{i}\" for i in range(len(chunks))],  # unique IDs\n",
    "#     embeddings=embeddings.tolist(),               # must be list of lists!\n",
    "#     documents=chunks,                              # optional, but useful\n",
    "#     metadatas=[{\"source\": \"example\"} for _ in chunks]  # optional metadata\n",
    "# )\n",
    "\n",
    "# print(\"✅ Vectors stored in Chroma Cloud!\")"
   ]
  },
  {
   "cell_type": "code",
   "execution_count": 76,
   "id": "7441bc59",
   "metadata": {},
   "outputs": [],
   "source": [
    "# Just store the first 200 chunks instead of all\n",
    "n = 300\n",
    "collection.add(\n",
    "    ids=[f\"doc_{i}\" for i in range(n)],\n",
    "    embeddings=embeddings[:n].tolist(),\n",
    "    documents=chunks[:n],\n",
    "    metadatas=[{\"source\": \"example\"} for _ in range(n)]\n",
    ")"
   ]
  },
  {
   "cell_type": "markdown",
   "id": "1ccf4758",
   "metadata": {},
   "source": [
    "### chroma local"
   ]
  },
  {
   "cell_type": "code",
   "execution_count": 75,
   "id": "2a48598c",
   "metadata": {},
   "outputs": [],
   "source": [
    "# import chromadb\n",
    "# from chromadb.config import Settings\n",
    "\n",
    "# chroma_client = chromadb.Client(Settings(\n",
    "#     chroma_db_impl=\"duckdb+parquet\",\n",
    "#     persist_directory=\"./chroma_local\"\n",
    "# ))\n"
   ]
  },
  {
   "cell_type": "markdown",
   "id": "63c3886c",
   "metadata": {},
   "source": [
    "## retrieve"
   ]
  },
  {
   "cell_type": "code",
   "execution_count": 85,
   "id": "c44b5dfb",
   "metadata": {},
   "outputs": [],
   "source": [
    "query = \"What is Mckinsey\"\n",
    "\n",
    "# Embed locally\n",
    "query_embedding = embedding_model.encode([query])\n",
    "\n",
    "# Search Chroma Cloud\n",
    "results = collection.query(\n",
    "    query_embeddings=query_embedding.tolist(),\n",
    "    n_results=3\n",
    ")"
   ]
  },
  {
   "cell_type": "code",
   "execution_count": 86,
   "id": "726a58cc",
   "metadata": {},
   "outputs": [],
   "source": [
    "# Extract relevant chunks\n",
    "contexts = results['documents'][0]\n",
    "context_text = \"\\n\".join(contexts)"
   ]
  },
  {
   "cell_type": "code",
   "execution_count": 87,
   "id": "780f34c9",
   "metadata": {},
   "outputs": [],
   "source": [
    "import google.generativeai as genai\n",
    "\n",
    "# Configure the SDK\n",
    "genai.configure(api_key=config['genimi_api'])\n",
    "\n",
    "# Create the Gemini 2.5 Flash model\n",
    "gemini_model = genai.GenerativeModel(\"gemini-2.5-flash\")"
   ]
  },
  {
   "cell_type": "code",
   "execution_count": 88,
   "id": "6e4784c1",
   "metadata": {},
   "outputs": [
    {
     "name": "stdout",
     "output_type": "stream",
     "text": [
      "McKinsey is described as a \"unique organization\" with consultants and a flat hierarchy. Its consultants work with clients and have freedom of access and action. It is also referred to as \"the Firm.\"\n"
     ]
    }
   ],
   "source": [
    "# Call your local Llama\n",
    "prompt = f\"\"\"Answer the question below using ONLY the context below.\n",
    "\n",
    "Context:\n",
    "{context_text}\n",
    "\n",
    "Question:\n",
    "{query}\n",
    "\n",
    "Answer:\"\"\"\n",
    "\n",
    "response = gemini_model.generate_content(prompt)\n",
    "\n",
    "print(response.text)"
   ]
  }
 ],
 "metadata": {
  "kernelspec": {
   "display_name": "Python 3",
   "language": "python",
   "name": "python3"
  },
  "language_info": {
   "codemirror_mode": {
    "name": "ipython",
    "version": 3
   },
   "file_extension": ".py",
   "mimetype": "text/x-python",
   "name": "python",
   "nbconvert_exporter": "python",
   "pygments_lexer": "ipython3",
   "version": "3.12.1"
  }
 },
 "nbformat": 4,
 "nbformat_minor": 5
}
